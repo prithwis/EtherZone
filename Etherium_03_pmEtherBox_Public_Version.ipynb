{
  "cells": [
    {
      "cell_type": "markdown",
      "metadata": {
        "id": "view-in-github",
        "colab_type": "text"
      },
      "source": [
        "<a href=\"https://colab.research.google.com/github/prithwis/EtherZone/blob/main/Etherium_03_pmEtherBox_Public_Version.ipynb\" target=\"_parent\"><img src=\"https://colab.research.google.com/assets/colab-badge.svg\" alt=\"Open In Colab\"/></a>"
      ]
    },
    {
      "cell_type": "markdown",
      "metadata": {
        "id": "aDn6yrENOymG"
      },
      "source": [
        "#Ethereum Code to Deposit, Withdraw and Send Ether from an Ether Box"
      ]
    },
    {
      "cell_type": "markdown",
      "metadata": {
        "id": "atsRwR06ao4F"
      },
      "source": [
        "![alt text](https://1.bp.blogspot.com/-CavJb3ucPuM/X8HkXYKE0UI/AAAAAAAAkKA/RYJ37c8TNUgfshCf06sFlJvXvQkbmBPHwCLcBGAsYHQ/w640-h237/fbCover28Nov20.jpg)<br>\n",
        "\n",
        "\n",
        "<hr>\n",
        "\n",
        "![CC-BY-SA](https://licensebuttons.net/l/by-sa/3.0/88x31.png)        [Prithwis Mukerjee](http://www.yantrajaal.com)<br>"
      ]
    },
    {
      "cell_type": "markdown",
      "metadata": {
        "id": "zXGgAJPxMLZU"
      },
      "source": [
        "## Solidity Code <br>\n",
        "https://gist.github.com/prithwis/7990ad3acc2f2ae6b0dfa4c536dcef3b\n"
      ]
    },
    {
      "cell_type": "markdown",
      "metadata": {
        "id": "3VoqGrq_VyLk"
      },
      "source": [
        "#Code"
      ]
    },
    {
      "cell_type": "code",
      "execution_count": null,
      "metadata": {
        "colab": {
          "base_uri": "https://localhost:8080/"
        },
        "id": "MyWmjJUbyFJ-",
        "outputId": "edc53e5b-4b1e-456f-eefe-5b1a1e0883d4"
      },
      "outputs": [
        {
          "name": "stdout",
          "output_type": "stream",
          "text": [
            "\u001b[31mERROR: nbclient 0.5.1 has requirement jupyter-client>=6.1.5, but you'll have jupyter-client 5.3.5 which is incompatible.\u001b[0m\n"
          ]
        }
      ],
      "source": [
        "# after installing, need to restart runtime for changes to take effect\n",
        "# the nbclient error may be ignored for the time being\n",
        "!pip install web3 > /dev/null"
      ]
    },
    {
      "cell_type": "code",
      "execution_count": null,
      "metadata": {
        "id": "xmap8_HFzW0K"
      },
      "outputs": [],
      "source": [
        "import time\n",
        "from web3 import Web3 \n",
        "#web3 = Web3(Web3.HTTPProvider(\"https://mainnet.infura.io/v3/68ae8e6787934812814cffe52183a357\"))\n",
        "web3 = Web3(Web3.HTTPProvider(\"https://rinkeby.infura.io/v3/68ae8e6787934812814cffe521999999\"))"
      ]
    },
    {
      "cell_type": "code",
      "execution_count": null,
      "metadata": {
        "colab": {
          "background_save": true
        },
        "id": "VPMkC__AwTv1"
      },
      "outputs": [],
      "source": [
        "pmOasis = '0x66B5Ca8A02850d13748c55147d974BAD51da1387'  # The Owner Address\n",
        "pmOasis_private = 'd2877343c3276f9cc4e56ccff311a0f6108ab1968b199b315b14011c54999999'  # Private Key\n",
        "pmPrantik = '0x58c6bB1C0572BDA41E983589049064980445a74A' # Destination Address 0x58c6bB1C0572BDA41E983589049064980445a74A"
      ]
    },
    {
      "cell_type": "code",
      "execution_count": null,
      "metadata": {
        "id": "GVlfaOHCljve"
      },
      "outputs": [],
      "source": [
        "# the contract address and the ABI value set in the next cell need to be changed when \n",
        "# the Solidity Code is changed and the conract is redeployed\n",
        "contract_address     = '0xf3d30213b788781f28D00EdAF42E94686999999'\n",
        " "
      ]
    },
    {
      "cell_type": "code",
      "execution_count": null,
      "metadata": {
        "cellView": "form",
        "id": "EiSvf9QTeRP4"
      },
      "outputs": [],
      "source": [
        "#@title ABI value\n",
        "abi = \"\"\"[\n",
        "\t{\n",
        "\t\t\"constant\": true,\n",
        "\t\t\"inputs\": [],\n",
        "\t\t\"name\": \"getBalance\",\n",
        "\t\t\"outputs\": [\n",
        "\t\t\t{\n",
        "\t\t\t\t\"name\": \"\",\n",
        "\t\t\t\t\"type\": \"uint256\"\n",
        "\t\t\t}\n",
        "\t\t],\n",
        "\t\t\"payable\": false,\n",
        "\t\t\"stateMutability\": \"view\",\n",
        "\t\t\"type\": \"function\"\n",
        "\t},\n",
        "\t{\n",
        "\t\t\"constant\": false,\n",
        "\t\t\"inputs\": [\n",
        "\t\t\t{\n",
        "\t\t\t\t\"name\": \"amount\",\n",
        "\t\t\t\t\"type\": \"uint256\"\n",
        "\t\t\t}\n",
        "\t\t],\n",
        "\t\t\"name\": \"putIn\",\n",
        "\t\t\"outputs\": [],\n",
        "\t\t\"payable\": true,\n",
        "\t\t\"stateMutability\": \"payable\",\n",
        "\t\t\"type\": \"function\"\n",
        "\t},\n",
        "\t{\n",
        "\t\t\"constant\": false,\n",
        "\t\t\"inputs\": [\n",
        "\t\t\t{\n",
        "\t\t\t\t\"name\": \"amount\",\n",
        "\t\t\t\t\"type\": \"uint256\"\n",
        "\t\t\t}\n",
        "\t\t],\n",
        "\t\t\"name\": \"pullOut\",\n",
        "\t\t\"outputs\": [],\n",
        "\t\t\"payable\": false,\n",
        "\t\t\"stateMutability\": \"nonpayable\",\n",
        "\t\t\"type\": \"function\"\n",
        "\t},\n",
        "\t{\n",
        "\t\t\"constant\": false,\n",
        "\t\t\"inputs\": [\n",
        "\t\t\t{\n",
        "\t\t\t\t\"name\": \"amount\",\n",
        "\t\t\t\t\"type\": \"uint256\"\n",
        "\t\t\t},\n",
        "\t\t\t{\n",
        "\t\t\t\t\"name\": \"Beneficiary\",\n",
        "\t\t\t\t\"type\": \"address\"\n",
        "\t\t\t}\n",
        "\t\t],\n",
        "\t\t\"name\": \"sendTo\",\n",
        "\t\t\"outputs\": [],\n",
        "\t\t\"payable\": false,\n",
        "\t\t\"stateMutability\": \"nonpayable\",\n",
        "\t\t\"type\": \"function\"\n",
        "\t},\n",
        "\t{\n",
        "\t\t\"anonymous\": false,\n",
        "\t\t\"inputs\": [\n",
        "\t\t\t{\n",
        "\t\t\t\t\"indexed\": false,\n",
        "\t\t\t\t\"name\": \"i1\",\n",
        "\t\t\t\t\"type\": \"uint256\"\n",
        "\t\t\t},\n",
        "\t\t\t{\n",
        "\t\t\t\t\"indexed\": false,\n",
        "\t\t\t\t\"name\": \"s1\",\n",
        "\t\t\t\t\"type\": \"string\"\n",
        "\t\t\t},\n",
        "\t\t\t{\n",
        "\t\t\t\t\"indexed\": false,\n",
        "\t\t\t\t\"name\": \"i2\",\n",
        "\t\t\t\t\"type\": \"uint256\"\n",
        "\t\t\t},\n",
        "\t\t\t{\n",
        "\t\t\t\t\"indexed\": false,\n",
        "\t\t\t\t\"name\": \"s2\",\n",
        "\t\t\t\t\"type\": \"string\"\n",
        "\t\t\t}\n",
        "\t\t],\n",
        "\t\t\"name\": \"LogStatus\",\n",
        "\t\t\"type\": \"event\"\n",
        "\t},\n",
        "\t{\n",
        "\t\t\"anonymous\": false,\n",
        "\t\t\"inputs\": [\n",
        "\t\t\t{\n",
        "\t\t\t\t\"indexed\": false,\n",
        "\t\t\t\t\"name\": \"i1\",\n",
        "\t\t\t\t\"type\": \"uint256\"\n",
        "\t\t\t},\n",
        "\t\t\t{\n",
        "\t\t\t\t\"indexed\": false,\n",
        "\t\t\t\t\"name\": \"s1\",\n",
        "\t\t\t\t\"type\": \"string\"\n",
        "\t\t\t},\n",
        "\t\t\t{\n",
        "\t\t\t\t\"indexed\": false,\n",
        "\t\t\t\t\"name\": \"B\",\n",
        "\t\t\t\t\"type\": \"address\"\n",
        "\t\t\t},\n",
        "\t\t\t{\n",
        "\t\t\t\t\"indexed\": false,\n",
        "\t\t\t\t\"name\": \"i2\",\n",
        "\t\t\t\t\"type\": \"uint256\"\n",
        "\t\t\t},\n",
        "\t\t\t{\n",
        "\t\t\t\t\"indexed\": false,\n",
        "\t\t\t\t\"name\": \"s2\",\n",
        "\t\t\t\t\"type\": \"string\"\n",
        "\t\t\t}\n",
        "\t\t],\n",
        "\t\t\"name\": \"LogStatus2\",\n",
        "\t\t\"type\": \"event\"\n",
        "\t}\n",
        "]\"\"\""
      ]
    },
    {
      "cell_type": "code",
      "execution_count": null,
      "metadata": {
        "colab": {
          "base_uri": "https://localhost:8080/"
        },
        "id": "aiaVVCr7XS9N",
        "outputId": "2150000f-f1fe-4c31-9c75-11ded9f26f8d"
      },
      "outputs": [
        {
          "name": "stdout",
          "output_type": "stream",
          "text": [
            "0\n"
          ]
        }
      ],
      "source": [
        "print(web3.eth.getBalance(contract_address));"
      ]
    },
    {
      "cell_type": "code",
      "execution_count": null,
      "metadata": {
        "id": "_m8QHbI1dVFY"
      },
      "outputs": [],
      "source": [
        "contract = web3.eth.contract(address = contract_address, abi = abi)"
      ]
    },
    {
      "cell_type": "markdown",
      "metadata": {
        "id": "JhsEjud6w-5d"
      },
      "source": [
        "##Check Balances"
      ]
    },
    {
      "cell_type": "code",
      "execution_count": null,
      "metadata": {
        "colab": {
          "base_uri": "https://localhost:8080/"
        },
        "id": "1604rY5GYcwD",
        "outputId": "12de552b-3812-4397-a47e-e5913548f630"
      },
      "outputs": [
        {
          "name": "stdout",
          "output_type": "stream",
          "text": [
            "0\n"
          ]
        }
      ],
      "source": [
        "print(web3.eth.getBalance(contract_address));"
      ]
    },
    {
      "cell_type": "code",
      "execution_count": null,
      "metadata": {
        "colab": {
          "base_uri": "https://localhost:8080/"
        },
        "id": "hK7jTmC0X-vn",
        "outputId": "8494478a-d13d-4a73-cc43-1190745b3021"
      },
      "outputs": [
        {
          "name": "stdout",
          "output_type": "stream",
          "text": [
            "2387550055999999811\n"
          ]
        }
      ],
      "source": [
        "print(web3.eth.getBalance(pmOasis));"
      ]
    },
    {
      "cell_type": "code",
      "execution_count": null,
      "metadata": {
        "colab": {
          "base_uri": "https://localhost:8080/"
        },
        "id": "MzQbywRwiKpC",
        "outputId": "573e2986-1e5e-4fb7-a4ed-8d98411da27d"
      },
      "outputs": [
        {
          "name": "stdout",
          "output_type": "stream",
          "text": [
            "500000000000000068\n"
          ]
        }
      ],
      "source": [
        "print(web3.eth.getBalance(pmPrantik));"
      ]
    },
    {
      "cell_type": "markdown",
      "metadata": {
        "id": "nCySSdqcFyoL"
      },
      "source": [
        "## Three key functions"
      ]
    },
    {
      "cell_type": "code",
      "execution_count": null,
      "metadata": {
        "colab": {
          "base_uri": "https://localhost:8080/"
        },
        "id": "-uUwQpquJ66v",
        "outputId": "cfad38e4-2718-4771-e306-384da4c2c386"
      },
      "outputs": [
        {
          "name": "stdout",
          "output_type": "stream",
          "text": [
            "Waiting\n",
            "AttributeDict({'blockHash': HexBytes('0x4fde02a940c28aef7cf03a5f79f6f0ab539fa9c5fd60e235f6a60b27214ccc10'), 'blockNumber': 7643788, 'contractAddress': None, 'cumulativeGasUsed': 30294, 'from': '0x66B5Ca8A02850d13748c55147d974BAD51da1387', 'gasUsed': 30294, 'logs': [AttributeDict({'address': '0xf3d30213b788781f28D00EdAF42E94686F01120a', 'blockHash': HexBytes('0x4fde02a940c28aef7cf03a5f79f6f0ab539fa9c5fd60e235f6a60b27214ccc10'), 'blockNumber': 7643788, 'data': '0x00000000000000000000000000000000000000000000000000000000000000320000000000000000000000000000000000000000000000000000000000000080000000000000000000000000000000000000000000000000000000000000004300000000000000000000000000000000000000000000000000000000000000c000000000000000000000000000000000000000000000000000000000000000074465706f73697400000000000000000000000000000000000000000000000000000000000000000000000000000000000000000000000000000000000000000f43757272656e742042616c616e63650000000000000000000000000000000000', 'logIndex': 0, 'removed': False, 'topics': [HexBytes('0x4ccae7e56a7631c62176dde74566e0698936b2117a1609490a86561ef3c27eeb')], 'transactionHash': HexBytes('0x0aa6c2d6fea86d4609d4b74b7efeb9f415fcc9af28b9be3f173081479754bf8e'), 'transactionIndex': 0})], 'logsBloom': HexBytes('0x00000000000000000000000000000000000000000000000000000000000000000000000000000000000000000000000000000000000000000000000000000000000000000000000000000000000000000000000000000000000000000000000000008000000000000000000000000000000000000000000000000000000000000000000008000000000000000000000000000000000000000000000000000000000000020000000000000000000000000000000000000000000000000000000000000000000000000000000000000000000000000000000400100000000000000000000000000000000000000000000000000000000000000000800000000000'), 'status': 1, 'to': '0xf3d30213b788781f28D00EdAF42E94686F01120a', 'transactionHash': HexBytes('0x0aa6c2d6fea86d4609d4b74b7efeb9f415fcc9af28b9be3f173081479754bf8e'), 'transactionIndex': 0})\n",
            "(AttributeDict({'args': AttributeDict({'i1': 50, 's1': 'Deposit', 'i2': 67, 's2': 'Current Balance'}), 'event': 'LogStatus', 'logIndex': 0, 'transactionIndex': 0, 'transactionHash': HexBytes('0x0aa6c2d6fea86d4609d4b74b7efeb9f415fcc9af28b9be3f173081479754bf8e'), 'address': '0xf3d30213b788781f28D00EdAF42E94686F01120a', 'blockHash': HexBytes('0x4fde02a940c28aef7cf03a5f79f6f0ab539fa9c5fd60e235f6a60b27214ccc10'), 'blockNumber': 7643788}),)\n"
          ]
        }
      ],
      "source": [
        "#Define a single Ethereum Transaction - here the insertEmp transaction\n",
        "def Deposit(amount):\n",
        "    nonce = web3.eth.getTransactionCount(pmOasis)\n",
        "    txn_dict = contract.functions.putIn(amount).buildTransaction({\n",
        "        'chainId': 4,\n",
        "        'gas': 400000,\n",
        "        'gasPrice': web3.toWei('40', 'gwei'),\n",
        "        'value': amount,\n",
        "        'nonce': nonce,\n",
        "    })\n",
        "    signed_txn = web3.eth.account.signTransaction(txn_dict, private_key=pmOasis_private)\n",
        "    result = web3.eth.sendRawTransaction(signed_txn.rawTransaction)\n",
        "    Loop = 0\n",
        "    while (Loop < 10):\n",
        "        try:\n",
        "            tx_receipt = web3.eth.getTransactionReceipt(result);\n",
        "            print(tx_receipt);\n",
        "            processed_receipt = contract.events.LogStatus().processReceipt(tx_receipt)\n",
        "            print(processed_receipt)\n",
        "            break;\n",
        "        except:\n",
        "            print('Waiting')\n",
        "            time.sleep(10)\n",
        "            Loop += 1;\n",
        "#Execute Function\n",
        "Deposit(50)"
      ]
    },
    {
      "cell_type": "code",
      "execution_count": null,
      "metadata": {
        "colab": {
          "base_uri": "https://localhost:8080/"
        },
        "id": "d6KtJobACBr6",
        "outputId": "8f1c2927-c338-4d74-a483-2617df79ac2d"
      },
      "outputs": [
        {
          "name": "stdout",
          "output_type": "stream",
          "text": [
            "67\n",
            "2390603935999999794\n"
          ]
        }
      ],
      "source": [
        "print(web3.eth.getBalance(contract_address));\n",
        "print(web3.eth.getBalance(pmOasis));"
      ]
    },
    {
      "cell_type": "code",
      "execution_count": null,
      "metadata": {
        "colab": {
          "base_uri": "https://localhost:8080/"
        },
        "id": "rpJjfKOfZyfU",
        "outputId": "2dab89a2-7362-4a49-aac7-e3eb10311648"
      },
      "outputs": [
        {
          "name": "stdout",
          "output_type": "stream",
          "text": [
            "Waiting\n",
            "AttributeDict({'blockHash': HexBytes('0x00e8945d85584391c3cc6ba2512b0ee70d332887624760c135caf034835f5927'), 'blockNumber': 7643796, 'contractAddress': None, 'cumulativeGasUsed': 37815, 'from': '0x66B5Ca8A02850d13748c55147d974BAD51da1387', 'gasUsed': 37815, 'logs': [AttributeDict({'address': '0xf3d30213b788781f28D00EdAF42E94686F01120a', 'blockHash': HexBytes('0x00e8945d85584391c3cc6ba2512b0ee70d332887624760c135caf034835f5927'), 'blockNumber': 7643796, 'data': '0x00000000000000000000000000000000000000000000000000000000000000110000000000000000000000000000000000000000000000000000000000000080000000000000000000000000000000000000000000000000000000000000000000000000000000000000000000000000000000000000000000000000000000c0000000000000000000000000000000000000000000000000000000000000000957697468647261776e0000000000000000000000000000000000000000000000000000000000000000000000000000000000000000000000000000000000000f43757272656e742042616c616e63650000000000000000000000000000000000', 'logIndex': 0, 'removed': False, 'topics': [HexBytes('0x4ccae7e56a7631c62176dde74566e0698936b2117a1609490a86561ef3c27eeb')], 'transactionHash': HexBytes('0x4b6ab9f1dee6ec8287bdb9cad622dc804a8c2fdcb854aeb5f2fb8a48fb553121'), 'transactionIndex': 0})], 'logsBloom': HexBytes('0x00000000000000000000000000000000000000000000000000000000000000000000000000000000000000000000000000000000000000000000000000000000000000000000000000000000000000000000000000000000000000000000000000008000000000000000000000000000000000000000000000000000000000000000000008000000000000000000000000000000000000000000000000000000000000020000000000000000000000000000000000000000000000000000000000000000000000000000000000000000000000000000000400100000000000000000000000000000000000000000000000000000000000000000800000000000'), 'status': 1, 'to': '0xf3d30213b788781f28D00EdAF42E94686F01120a', 'transactionHash': HexBytes('0x4b6ab9f1dee6ec8287bdb9cad622dc804a8c2fdcb854aeb5f2fb8a48fb553121'), 'transactionIndex': 0})\n",
            "(AttributeDict({'args': AttributeDict({'i1': 17, 's1': 'Withdrawn', 'i2': 0, 's2': 'Current Balance'}), 'event': 'LogStatus', 'logIndex': 0, 'transactionIndex': 0, 'transactionHash': HexBytes('0x4b6ab9f1dee6ec8287bdb9cad622dc804a8c2fdcb854aeb5f2fb8a48fb553121'), 'address': '0xf3d30213b788781f28D00EdAF42E94686F01120a', 'blockHash': HexBytes('0x00e8945d85584391c3cc6ba2512b0ee70d332887624760c135caf034835f5927'), 'blockNumber': 7643796}),)\n"
          ]
        }
      ],
      "source": [
        "#Define a single Ethereum Transaction - here the insertEmp transaction\n",
        "def Withdraw(amount):\n",
        "    nonce = web3.eth.getTransactionCount(pmOasis)\n",
        "    txn_dict = contract.functions.pullOut(amount).buildTransaction({\n",
        "        'chainId': 4,\n",
        "        'gas': 400000,\n",
        "        'gasPrice': web3.toWei('40', 'gwei'),\n",
        "#        'value': amount,\n",
        "        'nonce': nonce,\n",
        "    })\n",
        "    signed_txn = web3.eth.account.signTransaction(txn_dict, private_key=pmOasis_private)\n",
        "    result = web3.eth.sendRawTransaction(signed_txn.rawTransaction)\n",
        "    Loop = 0\n",
        "    while (Loop < 10):\n",
        "        try:\n",
        "            tx_receipt = web3.eth.getTransactionReceipt(result);\n",
        "            print(tx_receipt);\n",
        "            processed_receipt = contract.events.LogStatus().processReceipt(tx_receipt)\n",
        "            print(processed_receipt)\n",
        "            break;\n",
        "        except:\n",
        "            print('Waiting')\n",
        "            time.sleep(10)\n",
        "            Loop += 1;\n",
        "#Execute Function\n",
        "Withdraw(17)"
      ]
    },
    {
      "cell_type": "code",
      "execution_count": null,
      "metadata": {
        "colab": {
          "base_uri": "https://localhost:8080/"
        },
        "id": "XNhHTVCiaE-k",
        "outputId": "1ec5aacd-231a-4a56-d0c2-41430a48e9e4"
      },
      "outputs": [
        {
          "name": "stdout",
          "output_type": "stream",
          "text": [
            "0\n",
            "2387550055999999811\n"
          ]
        }
      ],
      "source": [
        "print(web3.eth.getBalance(contract_address));\n",
        "print(web3.eth.getBalance(pmOasis));"
      ]
    },
    {
      "cell_type": "code",
      "execution_count": null,
      "metadata": {
        "colab": {
          "base_uri": "https://localhost:8080/"
        },
        "id": "F_RL0YI8p-l7",
        "outputId": "d7861e03-b5a2-4a6c-9016-9068015acdad"
      },
      "outputs": [
        {
          "name": "stdout",
          "output_type": "stream",
          "text": [
            "Waiting\n",
            "Waiting\n",
            "AttributeDict({'blockHash': HexBytes('0x51bccec17bc7968afc59317faae37994d4a616dfaeaf27fde6b01c293e127043'), 'blockNumber': 7643793, 'contractAddress': None, 'cumulativeGasUsed': 60164, 'from': '0x66B5Ca8A02850d13748c55147d974BAD51da1387', 'gasUsed': 38532, 'logs': [AttributeDict({'address': '0xf3d30213b788781f28D00EdAF42E94686F01120a', 'blockHash': HexBytes('0x51bccec17bc7968afc59317faae37994d4a616dfaeaf27fde6b01c293e127043'), 'blockNumber': 7643793, 'data': '0x000000000000000000000000000000000000000000000000000000000000003200000000000000000000000000000000000000000000000000000000000000a000000000000000000000000058c6bb1c0572bda41e983589049064980445a74a000000000000000000000000000000000000000000000000000000000000001100000000000000000000000000000000000000000000000000000000000000e0000000000000000000000000000000000000000000000000000000000000000753656e7420546f00000000000000000000000000000000000000000000000000000000000000000000000000000000000000000000000000000000000000000f43757272656e742042616c616e63650000000000000000000000000000000000', 'logIndex': 0, 'removed': False, 'topics': [HexBytes('0x24912ed97e051942cc6c3905e618a1a9be2b0f482c84ffe0ea4d3bc1d2dcdd7c')], 'transactionHash': HexBytes('0x75335a098e3e702f4148e7364ee42c7beeb0ed2f5aa05ec0737b83dc14fbfd2e'), 'transactionIndex': 1})], 'logsBloom': HexBytes('0x00000000000000000000000000000000040000000000000000000000000000000000000000000000000000000000000000000000000000000000000000000000000000000000000000000000000000000000000000000000000000000000000000008000000000000000000000000000000000000000000000000000000000000000000008000000000000000000000000000000000000000000000000000000000000000000000000000000000000000000000000000000000000000000000000000000000000000000000000000000000000000000000400000000000000000000000000000000000000000000000040000000100000000000000000000000'), 'status': 1, 'to': '0xf3d30213b788781f28D00EdAF42E94686F01120a', 'transactionHash': HexBytes('0x75335a098e3e702f4148e7364ee42c7beeb0ed2f5aa05ec0737b83dc14fbfd2e'), 'transactionIndex': 1})\n",
            "(AttributeDict({'args': AttributeDict({'i1': 50, 's1': 'Sent To', 'B': '0x58c6bB1C0572BDA41E983589049064980445a74A', 'i2': 17, 's2': 'Current Balance'}), 'event': 'LogStatus2', 'logIndex': 0, 'transactionIndex': 1, 'transactionHash': HexBytes('0x75335a098e3e702f4148e7364ee42c7beeb0ed2f5aa05ec0737b83dc14fbfd2e'), 'address': '0xf3d30213b788781f28D00EdAF42E94686F01120a', 'blockHash': HexBytes('0x51bccec17bc7968afc59317faae37994d4a616dfaeaf27fde6b01c293e127043'), 'blockNumber': 7643793}),)\n"
          ]
        }
      ],
      "source": [
        "#Define a single Ethereum Transaction - here the insertEmp transaction\n",
        "def Transfer(amount,Beneficiary):\n",
        "    #BenAdd1 = hex(int(Beneficiary,16))\n",
        "    BenAdd = Web3.toChecksumAddress(Beneficiary)   # Converting a string to an address\n",
        "    nonce = web3.eth.getTransactionCount(pmOasis)\n",
        "    txn_dict = contract.functions.sendTo(amount,BenAdd).buildTransaction({\n",
        "        'chainId': 4,\n",
        "        'gas': 400000,\n",
        "        'gasPrice': web3.toWei('40', 'gwei'),\n",
        "#        'value': amount,\n",
        "        'nonce': nonce,\n",
        "    })\n",
        "    signed_txn = web3.eth.account.signTransaction(txn_dict, private_key=pmOasis_private)\n",
        "    result = web3.eth.sendRawTransaction(signed_txn.rawTransaction)\n",
        "    Loop = 0\n",
        "    while (Loop < 10):\n",
        "        try:\n",
        "            tx_receipt = web3.eth.getTransactionReceipt(result);\n",
        "            print(tx_receipt);\n",
        "            processed_receipt = contract.events.LogStatus2().processReceipt(tx_receipt)\n",
        "            print(processed_receipt)\n",
        "            break;\n",
        "        except:\n",
        "            print('Waiting')\n",
        "            time.sleep(10)\n",
        "            Loop += 1;\n",
        "#Execute Function\n",
        "Transfer(50,pmPrantik)"
      ]
    },
    {
      "cell_type": "code",
      "execution_count": null,
      "metadata": {
        "colab": {
          "base_uri": "https://localhost:8080/"
        },
        "id": "DvkWNRwi9QSE",
        "outputId": "106a2ec8-8b27-4bda-f90a-20f241496540"
      },
      "outputs": [
        {
          "name": "stdout",
          "output_type": "stream",
          "text": [
            "17\n",
            "2389062655999999794\n",
            "500000000000000068\n"
          ]
        }
      ],
      "source": [
        "print(web3.eth.getBalance(contract_address));\n",
        "print(web3.eth.getBalance(pmOasis));\n",
        "print(web3.eth.getBalance(pmPrantik));"
      ]
    },
    {
      "cell_type": "markdown",
      "metadata": {
        "id": "LicUs-Pcbbiz"
      },
      "source": [
        "#Chronobooks <br>\n",
        "![alt text](https://1.bp.blogspot.com/-lTiYBkU2qbU/X1er__fvnkI/AAAAAAAAjtE/GhDR3OEGJr4NG43fZPodrQD5kbxtnKebgCLcBGAsYHQ/s600/Footer2020-600x200.png)<hr>\n",
        "Chronotantra and Chronoyantra are two science fiction novels that explore the collapse of human civilisation on Earth and then its rebirth and reincarnation both on Earth as well as on the distant worlds of Mars, Titan and Enceladus. But is it the human civilisation that is being reborn? Or is it some other sentience that is revealing itself. \n",
        "If you have an interest in AI and found this material useful, you may consider buying these novels, in paperback or kindle, from [http://bit.ly/chronobooks](http://bit.ly/chronobooks)"
      ]
    }
  ],
  "metadata": {
    "colab": {
      "name": "Etherium 03 pmEtherBox - Public Version",
      "provenance": [],
      "toc_visible": true,
      "include_colab_link": true
    },
    "kernelspec": {
      "display_name": "Python 3",
      "name": "python3"
    }
  },
  "nbformat": 4,
  "nbformat_minor": 0
}