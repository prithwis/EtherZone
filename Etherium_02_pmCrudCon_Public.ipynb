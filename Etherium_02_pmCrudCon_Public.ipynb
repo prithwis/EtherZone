{
  "nbformat": 4,
  "nbformat_minor": 0,
  "metadata": {
    "colab": {
      "name": "Etherium 02 pmCrudCon Public",
      "provenance": [],
      "collapsed_sections": [],
      "include_colab_link": true
    },
    "kernelspec": {
      "name": "python3",
      "display_name": "Python 3"
    }
  },
  "cells": [
    {
      "cell_type": "markdown",
      "metadata": {
        "id": "view-in-github",
        "colab_type": "text"
      },
      "source": [
        "<a href=\"https://colab.research.google.com/github/prithwis/EtherZone/blob/main/Etherium_02_pmCrudCon_Public.ipynb\" target=\"_parent\"><img src=\"https://colab.research.google.com/assets/colab-badge.svg\" alt=\"Open In Colab\"/></a>"
      ]
    },
    {
      "cell_type": "markdown",
      "metadata": {
        "id": "aDn6yrENOymG"
      },
      "source": [
        "#Ethereum Code for CRUD - Create, Read, Update, Delete"
      ]
    },
    {
      "cell_type": "markdown",
      "metadata": {
        "id": "atsRwR06ao4F"
      },
      "source": [
        "![alt text](https://1.bp.blogspot.com/-CavJb3ucPuM/X8HkXYKE0UI/AAAAAAAAkKA/RYJ37c8TNUgfshCf06sFlJvXvQkbmBPHwCLcBGAsYHQ/w640-h237/fbCover28Nov20.jpg)<br>\n",
        "\n",
        "\n",
        "<hr>\n",
        "\n",
        "![CC-BY-SA](https://licensebuttons.net/l/by-sa/3.0/88x31.png)        [Prithwis Mukerjee](http://www.yantrajaal.com)<br>"
      ]
    },
    {
      "cell_type": "markdown",
      "metadata": {
        "id": "Ifmqcr1jyS_o"
      },
      "source": [
        "## References used <br>\n",
        "https://medium.com/validitylabs/how-to-interact-with-the-ethereum-blockchain-and-create-a-database-with-python-and-sql-3dcbd579b3c0 <br>\n",
        "https://medium.com/heartbankacademy/a-complete-mental-model-for-ethereum-dapp-development-5ce08598ed0a <br>\n",
        "https://medium.com/robhitchens/solidity-crud-part-1-824ffa69509a <br>\n",
        "https://www.dappuniversity.com/articles/the-ultimate-ethereum-dapp-tutorial <br>\n",
        "https://hackernoon.com/ethereum-smart-contracts-in-python-a-comprehensive-ish-guide-771b03990988 <br>\n",
        "http://infura.io\n"
      ]
    },
    {
      "cell_type": "markdown",
      "metadata": {
        "id": "zXGgAJPxMLZU"
      },
      "source": [
        "## Solidity\n",
        "The Solidity Code for the functions used here are available at <br>\n",
        "https://gist.github.com/prithwis/ad3f6e7720614f69af03c36035f965d0"
      ]
    },
    {
      "cell_type": "markdown",
      "metadata": {
        "id": "3VoqGrq_VyLk"
      },
      "source": [
        "#Code"
      ]
    },
    {
      "cell_type": "code",
      "metadata": {
        "colab": {
          "base_uri": "https://localhost:8080/"
        },
        "id": "MyWmjJUbyFJ-",
        "outputId": "c29fde3e-ded9-46e1-c7d9-46ed64f1616b"
      },
      "source": [
        "# after installing, need to restart runtime for changes to take effect\n",
        "# the nbclient error may be ignored for the time being\n",
        "!pip install web3 > /dev/null"
      ],
      "execution_count": null,
      "outputs": [
        {
          "output_type": "stream",
          "text": [
            "\u001b[31mERROR: nbclient 0.5.1 has requirement jupyter-client>=6.1.5, but you'll have jupyter-client 5.3.5 which is incompatible.\u001b[0m\n"
          ],
          "name": "stdout"
        }
      ]
    },
    {
      "cell_type": "code",
      "metadata": {
        "id": "xmap8_HFzW0K"
      },
      "source": [
        "import time\n",
        "from web3 import Web3 \n",
        "#web3 = Web3(Web3.HTTPProvider(\"https://mainnet.infura.io/v3/68ae8e6787934812814cffe521999999\"))\n",
        "web3 = Web3(Web3.HTTPProvider(\"https://rinkeby.infura.io/v3/68ae8e6787934812814cffe52999999\"))"
      ],
      "execution_count": null,
      "outputs": []
    },
    {
      "cell_type": "code",
      "metadata": {
        "id": "e3fBYT-aifr_"
      },
      "source": [
        "#web3.eth.enable_unaudited_features()"
      ],
      "execution_count": null,
      "outputs": []
    },
    {
      "cell_type": "code",
      "metadata": {
        "id": "GVlfaOHCljve"
      },
      "source": [
        "# the contract address and the ABI value set in the next cell need to be changed when \n",
        "# the Solidity Code is changed and the conract is redeployed\n",
        "contract_address     = '0x22480038e617Eaf3c3ff4490B50203a8cD215258'\n",
        "wallet_address = '0x66B5Ca8A02850d13748c55147d974BAD51zzzzzzz'  # actual address obfuscated\n",
        "\n",
        "# the following data should not be made public under any circumstances when you working on the MainNET\n",
        "# as this can be used to withdraw valuable Ethers from the wallet mentioned above\n",
        "# here we make it public because the wallet is on a Test Chain (rinkbe) and the ether coins in the wallet have \n",
        "# have no financial value\n",
        "\n",
        "wallet_private_key = 'd2877343c3276f9cc4e56ccff311a0f6108ab1968b199b315b14011c54zzzzzz'  # actual private_key obfuscated"
      ],
      "execution_count": null,
      "outputs": []
    },
    {
      "cell_type": "code",
      "metadata": {
        "id": "EiSvf9QTeRP4",
        "cellView": "form"
      },
      "source": [
        "#@title ABI value\n",
        "abi = \"\"\"[\n",
        "\t{\n",
        "\t\t\"constant\": false,\n",
        "\t\t\"inputs\": [\n",
        "\t\t\t{\n",
        "\t\t\t\t\"name\": \"empID\",\n",
        "\t\t\t\t\"type\": \"uint256\"\n",
        "\t\t\t}\n",
        "\t\t],\n",
        "\t\t\"name\": \"deleteEmp\",\n",
        "\t\t\"outputs\": [],\n",
        "\t\t\"payable\": false,\n",
        "\t\t\"stateMutability\": \"nonpayable\",\n",
        "\t\t\"type\": \"function\"\n",
        "\t},\n",
        "\t{\n",
        "\t\t\"constant\": false,\n",
        "\t\t\"inputs\": [\n",
        "\t\t\t{\n",
        "\t\t\t\t\"name\": \"empName\",\n",
        "\t\t\t\t\"type\": \"string\"\n",
        "\t\t\t},\n",
        "\t\t\t{\n",
        "\t\t\t\t\"name\": \"empSalary\",\n",
        "\t\t\t\t\"type\": \"uint256\"\n",
        "\t\t\t},\n",
        "\t\t\t{\n",
        "\t\t\t\t\"name\": \"empID\",\n",
        "\t\t\t\t\"type\": \"uint256\"\n",
        "\t\t\t}\n",
        "\t\t],\n",
        "\t\t\"name\": \"insertEmp\",\n",
        "\t\t\"outputs\": [],\n",
        "\t\t\"payable\": false,\n",
        "\t\t\"stateMutability\": \"nonpayable\",\n",
        "\t\t\"type\": \"function\"\n",
        "\t},\n",
        "\t{\n",
        "\t\t\"constant\": false,\n",
        "\t\t\"inputs\": [\n",
        "\t\t\t{\n",
        "\t\t\t\t\"name\": \"empID\",\n",
        "\t\t\t\t\"type\": \"uint256\"\n",
        "\t\t\t},\n",
        "\t\t\t{\n",
        "\t\t\t\t\"name\": \"newSalary\",\n",
        "\t\t\t\t\"type\": \"uint256\"\n",
        "\t\t\t}\n",
        "\t\t],\n",
        "\t\t\"name\": \"updateEmpSalary\",\n",
        "\t\t\"outputs\": [\n",
        "\t\t\t{\n",
        "\t\t\t\t\"name\": \"success\",\n",
        "\t\t\t\t\"type\": \"bool\"\n",
        "\t\t\t}\n",
        "\t\t],\n",
        "\t\t\"payable\": false,\n",
        "\t\t\"stateMutability\": \"nonpayable\",\n",
        "\t\t\"type\": \"function\"\n",
        "\t},\n",
        "\t{\n",
        "\t\t\"anonymous\": false,\n",
        "\t\t\"inputs\": [\n",
        "\t\t\t{\n",
        "\t\t\t\t\"indexed\": false,\n",
        "\t\t\t\t\"name\": \"empName\",\n",
        "\t\t\t\t\"type\": \"string\"\n",
        "\t\t\t},\n",
        "\t\t\t{\n",
        "\t\t\t\t\"indexed\": false,\n",
        "\t\t\t\t\"name\": \"empSalary\",\n",
        "\t\t\t\t\"type\": \"uint256\"\n",
        "\t\t\t},\n",
        "\t\t\t{\n",
        "\t\t\t\t\"indexed\": false,\n",
        "\t\t\t\t\"name\": \"empIdIndex\",\n",
        "\t\t\t\t\"type\": \"uint256\"\n",
        "\t\t\t},\n",
        "\t\t\t{\n",
        "\t\t\t\t\"indexed\": false,\n",
        "\t\t\t\t\"name\": \"empID\",\n",
        "\t\t\t\t\"type\": \"uint256\"\n",
        "\t\t\t}\n",
        "\t\t],\n",
        "\t\t\"name\": \"LogNewEmp\",\n",
        "\t\t\"type\": \"event\"\n",
        "\t},\n",
        "\t{\n",
        "\t\t\"anonymous\": false,\n",
        "\t\t\"inputs\": [\n",
        "\t\t\t{\n",
        "\t\t\t\t\"indexed\": false,\n",
        "\t\t\t\t\"name\": \"empName\",\n",
        "\t\t\t\t\"type\": \"string\"\n",
        "\t\t\t},\n",
        "\t\t\t{\n",
        "\t\t\t\t\"indexed\": false,\n",
        "\t\t\t\t\"name\": \"empSalary\",\n",
        "\t\t\t\t\"type\": \"uint256\"\n",
        "\t\t\t}\n",
        "\t\t],\n",
        "\t\t\"name\": \"LogUpdateEmpSal\",\n",
        "\t\t\"type\": \"event\"\n",
        "\t},\n",
        "\t{\n",
        "\t\t\"anonymous\": false,\n",
        "\t\t\"inputs\": [\n",
        "\t\t\t{\n",
        "\t\t\t\t\"indexed\": false,\n",
        "\t\t\t\t\"name\": \"empName\",\n",
        "\t\t\t\t\"type\": \"string\"\n",
        "\t\t\t},\n",
        "\t\t\t{\n",
        "\t\t\t\t\"indexed\": false,\n",
        "\t\t\t\t\"name\": \"empIdIndex\",\n",
        "\t\t\t\t\"type\": \"uint256\"\n",
        "\t\t\t}\n",
        "\t\t],\n",
        "\t\t\"name\": \"LogDeleteEmp\",\n",
        "\t\t\"type\": \"event\"\n",
        "\t},\n",
        "\t{\n",
        "\t\t\"constant\": true,\n",
        "\t\t\"inputs\": [],\n",
        "\t\t\"name\": \"getEmpCount\",\n",
        "\t\t\"outputs\": [\n",
        "\t\t\t{\n",
        "\t\t\t\t\"name\": \"count\",\n",
        "\t\t\t\t\"type\": \"uint256\"\n",
        "\t\t\t},\n",
        "\t\t\t{\n",
        "\t\t\t\t\"name\": \"retString\",\n",
        "\t\t\t\t\"type\": \"string\"\n",
        "\t\t\t}\n",
        "\t\t],\n",
        "\t\t\"payable\": false,\n",
        "\t\t\"stateMutability\": \"view\",\n",
        "\t\t\"type\": \"function\"\n",
        "\t},\n",
        "\t{\n",
        "\t\t\"constant\": true,\n",
        "\t\t\"inputs\": [\n",
        "\t\t\t{\n",
        "\t\t\t\t\"name\": \"empIDck\",\n",
        "\t\t\t\t\"type\": \"uint256\"\n",
        "\t\t\t}\n",
        "\t\t],\n",
        "\t\t\"name\": \"getEmpData\",\n",
        "\t\t\"outputs\": [\n",
        "\t\t\t{\n",
        "\t\t\t\t\"name\": \"empName\",\n",
        "\t\t\t\t\"type\": \"string\"\n",
        "\t\t\t},\n",
        "\t\t\t{\n",
        "\t\t\t\t\"name\": \"empSalary\",\n",
        "\t\t\t\t\"type\": \"uint256\"\n",
        "\t\t\t}\n",
        "\t\t],\n",
        "\t\t\"payable\": false,\n",
        "\t\t\"stateMutability\": \"view\",\n",
        "\t\t\"type\": \"function\"\n",
        "\t},\n",
        "\t{\n",
        "\t\t\"constant\": true,\n",
        "\t\t\"inputs\": [\n",
        "\t\t\t{\n",
        "\t\t\t\t\"name\": \"empIDck\",\n",
        "\t\t\t\t\"type\": \"uint256\"\n",
        "\t\t\t}\n",
        "\t\t],\n",
        "\t\t\"name\": \"isEmp\",\n",
        "\t\t\"outputs\": [\n",
        "\t\t\t{\n",
        "\t\t\t\t\"name\": \"isIndeed\",\n",
        "\t\t\t\t\"type\": \"bool\"\n",
        "\t\t\t}\n",
        "\t\t],\n",
        "\t\t\"payable\": false,\n",
        "\t\t\"stateMutability\": \"view\",\n",
        "\t\t\"type\": \"function\"\n",
        "\t}\n",
        "]\"\"\""
      ],
      "execution_count": null,
      "outputs": []
    },
    {
      "cell_type": "code",
      "metadata": {
        "id": "_m8QHbI1dVFY"
      },
      "source": [
        "contract = web3.eth.contract(address = contract_address, abi = abi)"
      ],
      "execution_count": null,
      "outputs": []
    },
    {
      "cell_type": "markdown",
      "metadata": {
        "id": "OKTUV3Q4WkXY"
      },
      "source": [
        "## Read Only Functions <br>\n",
        "getEmpCount and getEmpData are read only transactions and can be executed without any further action"
      ]
    },
    {
      "cell_type": "code",
      "metadata": {
        "colab": {
          "base_uri": "https://localhost:8080/"
        },
        "id": "MzQbywRwiKpC",
        "outputId": "bb6b7bbf-4e36-407c-ce2b-5897063851a8"
      },
      "source": [
        "contract.functions.getEmpCount().call()"
      ],
      "execution_count": null,
      "outputs": [
        {
          "output_type": "execute_result",
          "data": {
            "text/plain": [
              "[2, 'Hello Prithwis - v1.0 ']"
            ]
          },
          "metadata": {
            "tags": []
          },
          "execution_count": 17
        }
      ]
    },
    {
      "cell_type": "code",
      "metadata": {
        "colab": {
          "base_uri": "https://localhost:8080/"
        },
        "id": "2hwmmZFyXtRx",
        "outputId": "907fed09-1f8e-4cea-c80b-5fbfd9e06928"
      },
      "source": [
        "contract.functions.getEmpData(202).call()"
      ],
      "execution_count": null,
      "outputs": [
        {
          "output_type": "execute_result",
          "data": {
            "text/plain": [
              "['prithwis202', 20200]"
            ]
          },
          "metadata": {
            "tags": []
          },
          "execution_count": 18
        }
      ]
    },
    {
      "cell_type": "markdown",
      "metadata": {
        "id": "xDi7XsUrXh4V"
      },
      "source": [
        "##Insert, Update, Delete <br>\n",
        "these are transactions for which Ether has to be spent from an authorise wallet and using the proper signature. Hence we need a few more steps"
      ]
    },
    {
      "cell_type": "code",
      "metadata": {
        "id": "-uUwQpquJ66v"
      },
      "source": [
        "#Executing a single Ethereum Transaction - here the insertEmp transaction\n",
        "def pyinsertEmp(empName, empSalary,empID):\n",
        "    nonce = web3.eth.getTransactionCount(wallet_address)\n",
        "    txn_dict = contract.functions.insertEmp(empName, empSalary,empID).buildTransaction({\n",
        "        'chainId': 4,\n",
        "        'gas': 400000,\n",
        "        'gasPrice': web3.toWei('40', 'gwei'),\n",
        "        'nonce': nonce,\n",
        "    })\n",
        "    signed_txn = web3.eth.account.signTransaction(txn_dict, private_key=wallet_private_key)\n",
        "    result = web3.eth.sendRawTransaction(signed_txn.rawTransaction)\n",
        "    Loop = 0\n",
        "    while (Loop < 10):\n",
        "        try:\n",
        "            tx_receipt = web3.eth.getTransactionReceipt(result);\n",
        "            print(tx_receipt);\n",
        "            processed_receipt = contract.events.LogNewEmp().processReceipt(tx_receipt)\n",
        "            print(processed_receipt)\n",
        "            break;\n",
        "        except:\n",
        "            print('Waiting')\n",
        "            time.sleep(10)\n",
        "            Loop += 1;"
      ],
      "execution_count": null,
      "outputs": []
    },
    {
      "cell_type": "code",
      "metadata": {
        "id": "F_RL0YI8p-l7"
      },
      "source": [
        "#General function to execute any transaction\n",
        "def execTxn(txName, txVar1, txVar2,txVar3):\n",
        "    print('executing ... ',txName, txVar1,txVar2,txVar3)\n",
        "    nonce = web3.eth.getTransactionCount(wallet_address)\n",
        "    buildData = {\n",
        "        'chainId': 4,\n",
        "        'gas': 400000,\n",
        "        'gasPrice': web3.toWei('40', 'gwei'),\n",
        "        'nonce': nonce,\n",
        "    }\n",
        "    if (txName == 'insertEmp'):\n",
        "        txn_dict = contract.functions.insertEmp(txVar1, txVar2,txVar3).buildTransaction(buildData)\n",
        "    if (txName == 'updateEmpSalary'):\n",
        "        txn_dict = contract.functions.updateEmpSalary(txVar1, txVar2).buildTransaction(buildData)\n",
        "    if (txName == 'deleteEmp'):\n",
        "        txn_dict = contract.functions.deleteEmp(txVar1).buildTransaction(buildData)\n",
        "    signed_txn = web3.eth.account.signTransaction(txn_dict, private_key=wallet_private_key)\n",
        "    result = web3.eth.sendRawTransaction(signed_txn.rawTransaction)\n",
        "    Loop = 0\n",
        "    while (Loop < 10):\n",
        "        try:\n",
        "            tx_receipt = web3.eth.getTransactionReceipt(result);\n",
        "            #print(tx_receipt);\n",
        "            if (txName == 'insertEmp'):\n",
        "                processed_receipt = contract.events.LogNewEmp().processReceipt(tx_receipt)\n",
        "            if (txName == 'updateEmpSalary'):\n",
        "                processed_receipt = contract.events.LogUpdateEmpSal().processReceipt(tx_receipt)\n",
        "            if (txName == 'deleteEmp'):\n",
        "                processed_receipt = contract.events.LogDeleteEmp().processReceipt(tx_receipt)\n",
        "            print(processed_receipt)\n",
        "            break;\n",
        "        except:\n",
        "            print('Waiting ...')\n",
        "            time.sleep(10)\n",
        "            Loop += 1;"
      ],
      "execution_count": null,
      "outputs": []
    },
    {
      "cell_type": "markdown",
      "metadata": {
        "id": "ZuSS97TYYHh_"
      },
      "source": [
        "##Transaction Execution"
      ]
    },
    {
      "cell_type": "code",
      "metadata": {
        "colab": {
          "base_uri": "https://localhost:8080/"
        },
        "id": "FbJ8wXS3qwLz",
        "outputId": "23e5d3bc-3915-42b7-f8d2-dff4b20b0be9"
      },
      "source": [
        "#this transaction and subsequent transactions will fail if the wallet, private keys are incorrect\n",
        "#please place your correct keys and re-execute\n",
        "execTxn(\"insertEmp\",'prithwis205',20400,205)"
      ],
      "execution_count": null,
      "outputs": [
        {
          "output_type": "stream",
          "text": [
            "executing ...  insertEmp prithwis205 20400 205\n",
            "Waiting ...\n",
            "(AttributeDict({'args': AttributeDict({'empName': 'prithwis205', 'empSalary': 20400, 'empIdIndex': 2, 'empID': 205}), 'event': 'LogNewEmp', 'logIndex': 0, 'transactionIndex': 0, 'transactionHash': HexBytes('0x27404b0f2e680a58044fa2a0b0566cea1f75bdd896a1ee45b8e9e679b8fe01b3'), 'address': '0x22480038e617Eaf3c3ff4490B50203a8cD215258', 'blockHash': HexBytes('0x7a52497b0efeb8e2863503c3c59d79cb6f93622c606b6ef262330e58e482add2'), 'blockNumber': 7630831}),)\n"
          ],
          "name": "stdout"
        }
      ]
    },
    {
      "cell_type": "code",
      "metadata": {
        "colab": {
          "base_uri": "https://localhost:8080/"
        },
        "id": "SlpflV0EB2MP",
        "outputId": "06d6bafd-4970-46c7-ccc2-ce0fc818757f"
      },
      "source": [
        "contract.functions.getEmpCount().call()"
      ],
      "execution_count": null,
      "outputs": [
        {
          "output_type": "execute_result",
          "data": {
            "text/plain": [
              "[3, 'Hello Prithwis - v1.0 ']"
            ]
          },
          "metadata": {
            "tags": []
          },
          "execution_count": 27
        }
      ]
    },
    {
      "cell_type": "code",
      "metadata": {
        "colab": {
          "base_uri": "https://localhost:8080/"
        },
        "id": "1tQMeIEtOusO",
        "outputId": "534ddd07-042b-47c6-957f-587c127191b5"
      },
      "source": [
        "contract.functions.getEmpData(205).call()"
      ],
      "execution_count": null,
      "outputs": [
        {
          "output_type": "execute_result",
          "data": {
            "text/plain": [
              "['prithwis205', 20400]"
            ]
          },
          "metadata": {
            "tags": []
          },
          "execution_count": 28
        }
      ]
    },
    {
      "cell_type": "code",
      "metadata": {
        "colab": {
          "base_uri": "https://localhost:8080/"
        },
        "id": "R9Y3P0q90a0K",
        "outputId": "14330e3b-d0aa-4b69-9dad-345bbd30e958"
      },
      "source": [
        "execTxn(\"updateEmpSalary\",41,4005,'null')"
      ],
      "execution_count": null,
      "outputs": [
        {
          "output_type": "stream",
          "text": [
            "executing ...  updateEmpSalary 41 4005 null\n",
            "Waiting ...\n",
            "(AttributeDict({'args': AttributeDict({'empName': 'Indira41', 'empSalary': 4005}), 'event': 'LogUpdateEmpSal', 'logIndex': 0, 'transactionIndex': 0, 'transactionHash': HexBytes('0xb1a1b72f8e904d4c8458ceb8faadd4b8041b7ca0ee59d2f595a6825b7f50012d'), 'address': '0x22480038e617Eaf3c3ff4490B50203a8cD215258', 'blockHash': HexBytes('0x1510f5d40487a2082cf11e2cc57279d0386a09359831a746c99dd0c21fc1b132'), 'blockNumber': 7625266}),)\n"
          ],
          "name": "stdout"
        }
      ]
    },
    {
      "cell_type": "code",
      "metadata": {
        "colab": {
          "base_uri": "https://localhost:8080/"
        },
        "id": "sZq_pHSlB-R0",
        "outputId": "154ff727-9737-4937-eb36-b7a4a12b2196"
      },
      "source": [
        "contract.functions.getEmpData(41).call()"
      ],
      "execution_count": null,
      "outputs": [
        {
          "output_type": "execute_result",
          "data": {
            "text/plain": [
              "['not found', 0]"
            ]
          },
          "metadata": {
            "tags": []
          },
          "execution_count": 71
        }
      ]
    },
    {
      "cell_type": "code",
      "metadata": {
        "colab": {
          "base_uri": "https://localhost:8080/"
        },
        "id": "KGCB4h7zCNYr",
        "outputId": "e7f5ec0e-da0a-4c63-916d-278c5bf97421"
      },
      "source": [
        "execTxn(\"deleteEmp\",203,'null','null')"
      ],
      "execution_count": null,
      "outputs": [
        {
          "output_type": "stream",
          "text": [
            "executing ...  deleteEmp 203 null null\n",
            "Waiting ...\n",
            "Waiting ...\n",
            "(AttributeDict({'args': AttributeDict({'empName': 'prithwis203', 'empIdIndex': 1}), 'event': 'LogDeleteEmp', 'logIndex': 0, 'transactionIndex': 0, 'transactionHash': HexBytes('0x7709a4e713eca007605166dccc2913bc5596412e906e4afdd76356055572272d'), 'address': '0x22480038e617Eaf3c3ff4490B50203a8cD215258', 'blockHash': HexBytes('0x117752dac94f68430eff193f12efd0c522d9505c39b7570f43b31c5a33cd24df'), 'blockNumber': 7630243}),)\n"
          ],
          "name": "stdout"
        }
      ]
    },
    {
      "cell_type": "markdown",
      "metadata": {
        "id": "LicUs-Pcbbiz"
      },
      "source": [
        "#Chronobooks <br>\n",
        "![alt text](https://1.bp.blogspot.com/-lTiYBkU2qbU/X1er__fvnkI/AAAAAAAAjtE/GhDR3OEGJr4NG43fZPodrQD5kbxtnKebgCLcBGAsYHQ/s600/Footer2020-600x200.png)<hr>\n",
        "Chronotantra and Chronoyantra are two science fiction novels that explore the collapse of human civilisation on Earth and then its rebirth and reincarnation both on Earth as well as on the distant worlds of Mars, Titan and Enceladus. But is it the human civilisation that is being reborn? Or is it some other sentience that is revealing itself. \n",
        "If you have an interest in AI and found this material useful, you may consider buying these novels, in paperback or kindle, from [http://bit.ly/chronobooks](http://bit.ly/chronobooks)"
      ]
    }
  ]
}